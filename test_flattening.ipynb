{
 "cells": [
  {
   "cell_type": "code",
   "execution_count": 23,
   "metadata": {},
   "outputs": [
    {
     "ename": "KeyError",
     "evalue": "'event.positions'",
     "output_type": "error",
     "traceback": [
      "\u001b[0;31m---------------------------------------------------------------------------\u001b[0m",
      "\u001b[0;31mKeyError\u001b[0m                                  Traceback (most recent call last)",
      "Cell \u001b[0;32mIn [23], line 19\u001b[0m\n\u001b[1;32m     17\u001b[0m df \u001b[38;5;241m=\u001b[39m df[\u001b[38;5;124m'\u001b[39m\u001b[38;5;124mevents\u001b[39m\u001b[38;5;124m'\u001b[39m]\u001b[38;5;241m.\u001b[39mapply(pd\u001b[38;5;241m.\u001b[39mSeries)\n\u001b[1;32m     18\u001b[0m df\n\u001b[0;32m---> 19\u001b[0m df_p \u001b[38;5;241m=\u001b[39m \u001b[43mdf\u001b[49m\u001b[43m[\u001b[49m\u001b[38;5;124;43m'\u001b[39;49m\u001b[38;5;124;43mevent.positions\u001b[39;49m\u001b[38;5;124;43m'\u001b[39;49m\u001b[43m]\u001b[49m\u001b[38;5;241m.\u001b[39mapply(pd\u001b[38;5;241m.\u001b[39mSeries)\n\u001b[1;32m     20\u001b[0m df_p_0 \u001b[38;5;241m=\u001b[39m df_p[\u001b[38;5;241m0\u001b[39m]\u001b[38;5;241m.\u001b[39mapply(pd\u001b[38;5;241m.\u001b[39mSeries)\n\u001b[1;32m     22\u001b[0m \u001b[38;5;66;03m# Rename positions[0] & positions[1]\u001b[39;00m\n",
      "File \u001b[0;32m~/.local/share/virtualenvs/practice-XieVM9JE/lib/python3.10/site-packages/pandas/core/frame.py:3805\u001b[0m, in \u001b[0;36mDataFrame.__getitem__\u001b[0;34m(self, key)\u001b[0m\n\u001b[1;32m   3803\u001b[0m \u001b[39mif\u001b[39;00m \u001b[39mself\u001b[39m\u001b[39m.\u001b[39mcolumns\u001b[39m.\u001b[39mnlevels \u001b[39m>\u001b[39m \u001b[39m1\u001b[39m:\n\u001b[1;32m   3804\u001b[0m     \u001b[39mreturn\u001b[39;00m \u001b[39mself\u001b[39m\u001b[39m.\u001b[39m_getitem_multilevel(key)\n\u001b[0;32m-> 3805\u001b[0m indexer \u001b[39m=\u001b[39m \u001b[39mself\u001b[39;49m\u001b[39m.\u001b[39;49mcolumns\u001b[39m.\u001b[39;49mget_loc(key)\n\u001b[1;32m   3806\u001b[0m \u001b[39mif\u001b[39;00m is_integer(indexer):\n\u001b[1;32m   3807\u001b[0m     indexer \u001b[39m=\u001b[39m [indexer]\n",
      "File \u001b[0;32m~/.local/share/virtualenvs/practice-XieVM9JE/lib/python3.10/site-packages/pandas/core/indexes/range.py:396\u001b[0m, in \u001b[0;36mRangeIndex.get_loc\u001b[0;34m(self, key, method, tolerance)\u001b[0m\n\u001b[1;32m    394\u001b[0m             \u001b[39mraise\u001b[39;00m \u001b[39mKeyError\u001b[39;00m(key) \u001b[39mfrom\u001b[39;00m \u001b[39merr\u001b[39;00m\n\u001b[1;32m    395\u001b[0m     \u001b[39mself\u001b[39m\u001b[39m.\u001b[39m_check_indexing_error(key)\n\u001b[0;32m--> 396\u001b[0m     \u001b[39mraise\u001b[39;00m \u001b[39mKeyError\u001b[39;00m(key)\n\u001b[1;32m    397\u001b[0m \u001b[39mreturn\u001b[39;00m \u001b[39msuper\u001b[39m()\u001b[39m.\u001b[39mget_loc(key, method\u001b[39m=\u001b[39mmethod, tolerance\u001b[39m=\u001b[39mtolerance)\n",
      "\u001b[0;31mKeyError\u001b[0m: 'event.positions'"
     ]
    }
   ],
   "source": [
    "import pandas as pd\n",
    "\n",
    "data = {'events': [{'id': 142896214,\n",
    "                    'playerId': 37831,\n",
    "                    'teamId': 3157,\n",
    "                    'matchId': 2214569,\n",
    "                    'matchPeriod': '1H',\n",
    "                    'eventSec': 0.8935539999999946,\n",
    "                    'eventId': 8,\n",
    "                    'eventName': 'Pass',\n",
    "                    'subEventId': 85,\n",
    "                    'subEventName': 'Simple pass',\n",
    "                    'positions': [{'x': 51, 'y': 49}],\n",
    "                    'tags': [{'id': 1801, 'tag': {'label': 'accurate'}}]}]}\n",
    "\n",
    "df = pd.DataFrame.from_dict(data)\n",
    "df = df['events'].apply(pd.Series)\n",
    "df_p = df['positions'].apply(pd.Series)\n",
    "df_p_0 = df_p[0].apply(pd.Series)\n",
    "\n",
    "# Rename positions[0] & positions[1]\n",
    "df_p_0.columns = ['pos_0_x', 'pos_0_y']\n",
    "\n",
    "df_new = pd.concat([df, df_p_0], axis=1)\n",
    "df_new = df_new.drop(['positions', 'tags'], axis=1)\n",
    "display(df_new)\n",
    "# df_p_1 = df_p[1].apply(pd.Series)\n",
    "# df_p_0\n",
    "# df_p_0\n"
   ]
  }
 ],
 "metadata": {
  "language_info": {
   "name": "python"
  },
  "orig_nbformat": 4
 },
 "nbformat": 4,
 "nbformat_minor": 2
}
